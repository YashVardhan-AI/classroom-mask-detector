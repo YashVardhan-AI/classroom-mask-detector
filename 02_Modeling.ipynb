{
 "cells": [
  {
   "cell_type": "markdown",
   "metadata": {},
   "source": [
    "# 02. Modeling"
   ]
  },
  {
   "cell_type": "markdown",
   "metadata": {},
   "source": [
    "![Model](./Assets/model.png)"
   ]
  },
  {
   "cell_type": "markdown",
   "metadata": {},
   "source": [
    "In this notebook, I will be making a _Machine Learning **Neural Network** Model_ to classify between the image as `With Mask` and `Without Mask` \n",
    "![mask, without mask](./Assets/mask_no_mask.png)"
   ]
  },
  {
   "cell_type": "markdown",
   "metadata": {},
   "source": [
    "### For this Model as it is a classification problem, we will be aiming for accuracy of >95% "
   ]
  },
  {
   "cell_type": "code",
   "execution_count": 1,
   "metadata": {},
   "outputs": [],
   "source": [
    "# Standard Imports\n",
    "%matplotlib inline\n",
    "import numpy as np\n",
    "import matplotlib.pyplot as plt\n",
    "import cv2"
   ]
  },
  {
   "cell_type": "code",
   "execution_count": 2,
   "metadata": {},
   "outputs": [],
   "source": [
    "# importing function to split the data\n",
    "from sklearn.model_selection import train_test_split"
   ]
  },
  {
   "cell_type": "code",
   "execution_count": 3,
   "metadata": {},
   "outputs": [],
   "source": [
    "# Imports for preprocessing the data\n",
    "from keras.preprocessing.image import ImageDataGenerator\n",
    "from keras.utils.np_utils import to_categorical"
   ]
  },
  {
   "cell_type": "code",
   "execution_count": 4,
   "metadata": {},
   "outputs": [],
   "source": [
    "# Imports for making of the Model\n",
    "from keras.models import Sequential\n",
    "from keras.layers import Conv2D, Dense, MaxPooling2D, Activation, Dropout, Flatten\n",
    "from keras.optimizers import Adam"
   ]
  },
  {
   "cell_type": "markdown",
   "metadata": {},
   "source": [
    "Defining the constants"
   ]
  },
  {
   "cell_type": "code",
   "execution_count": 5,
   "metadata": {},
   "outputs": [],
   "source": [
    "TEST_RATIO = 0.20\n",
    "VAL_RATIO = 0.20 # Validation ratio\n",
    "IMAGE_SIZE = 96 # Image size 32 x 32 px\n",
    "# Model constants\n",
    "BATCH_SIZE = 32\n",
    "EPOCHS = 60\n",
    "MODEL_PATH = './Data/mask_detection_model.model'  # the path where model will be saved\n",
    "INIT_LR = 1e-4\n"
   ]
  },
  {
   "cell_type": "markdown",
   "metadata": {},
   "source": [
    "### Loading the data"
   ]
  },
  {
   "cell_type": "code",
   "execution_count": 6,
   "metadata": {},
   "outputs": [
    {
     "data": {
      "text/plain": [
       "(4024, 4024, 2)"
      ]
     },
     "execution_count": 6,
     "metadata": {},
     "output_type": "execute_result"
    }
   ],
   "source": [
    "images = np.load('./Data/images.npy')\n",
    "classes = np.load('./Data/target.npy')\n",
    "\n",
    "number_of_classes = len(np.unique(classes)) # Getting the total number of unique classes\n",
    "\n",
    "len(images), len(classes), number_of_classes"
   ]
  },
  {
   "cell_type": "markdown",
   "metadata": {},
   "source": [
    "### Spliting the data into train, test and validation set"
   ]
  },
  {
   "cell_type": "markdown",
   "metadata": {},
   "source": [
    "`X` are the features and `y` is the target"
   ]
  },
  {
   "cell_type": "code",
   "execution_count": 7,
   "metadata": {},
   "outputs": [
    {
     "name": "stdout",
     "output_type": "stream",
     "text": [
      "Train set -> X: (2575, 96, 96, 3), y: (2575,)\n",
      "Test set -> X: (805, 96, 96, 3), y: (805,)\n",
      "Validation set -> X: (644, 96, 96, 3), y: (644,)\n"
     ]
    }
   ],
   "source": [
    "X_train, X_test, y_train, y_test = train_test_split(images, classes, test_size=TEST_RATIO)\n",
    "X_train, X_validation, y_train, y_validation = train_test_split(X_train, y_train, test_size=VAL_RATIO)\n",
    "\n",
    "# checking the shapes of the data\n",
    "print(f\"Train set -> X: {X_train.shape}, y: {y_train.shape}\")\n",
    "print(f\"Test set -> X: {X_test.shape}, y: {y_test.shape}\")\n",
    "print(f\"Validation set -> X: {X_validation.shape}, y: {y_validation.shape}\")"
   ]
  },
  {
   "cell_type": "markdown",
   "metadata": {},
   "source": [
    "### Before we make the model, we should:\n",
    "- Reshape the sets to the needed shape\n",
    "- Increase the contrast of the image for better results using [cv2.equalizeHist()](https://docs.opencv.org/master/d5/daf/tutorial_py_histogram_equalization.html)\n",
    "- Convert the integer values to float values between 0 and 1\n",
    "- And also make sure they all are also grey for good results\n",
    "- The target array should be categorical "
   ]
  },
  {
   "cell_type": "code",
   "execution_count": 8,
   "metadata": {},
   "outputs": [],
   "source": [
    "# defining a function to preprocess the images\n",
    "def img_preprocessing(image):\n",
    "    \"\"\"Takes an image and returns the preprocesses version of it.\"\"\"\n",
    "    image = cv2.cvtColor(image, cv2.COLOR_BGR2GRAY)\n",
    "    \n",
    "    image = cv2.equalizeHist(image)  # Increasing the contrast of the image\n",
    "    \n",
    "    image = image / 255  # converting the image to float\n",
    "    \n",
    "    return image"
   ]
  },
  {
   "cell_type": "code",
   "execution_count": 9,
   "metadata": {},
   "outputs": [],
   "source": [
    "# Preprocessing the Images\n",
    "X_train = np.array(list(map(img_preprocessing, X_train)))\n",
    "X_test = np.array(list(map(img_preprocessing, X_test)))\n",
    "X_validation = np.array(list(map(img_preprocessing, X_validation)))\n",
    "\n",
    "# Reshaping the sets\n",
    "# the new shape should be (*previous_shape, 1), i.e. it should be array first element of a new array \n",
    "X_train = X_train.reshape(X_train.shape[0], X_train.shape[1], X_train.shape[2], 1)\n",
    "X_test = X_test.reshape(X_test.shape[0], X_test.shape[1], X_test.shape[2], 1)\n",
    "X_validation = X_validation.reshape(X_validation.shape[0], X_validation.shape[1], X_validation.shape[2], 1)"
   ]
  },
  {
   "cell_type": "code",
   "execution_count": 10,
   "metadata": {},
   "outputs": [],
   "source": [
    "# turning the y sets (target sets) into categorical arays\n",
    "# using a built in function in keras for one-hot-encoding the sets\n",
    "y_train = to_categorical(y_train, number_of_classes)\n",
    "y_test = to_categorical(y_test, number_of_classes)\n",
    "y_validation = to_categorical(y_validation, number_of_classes)"
   ]
  },
  {
   "cell_type": "code",
   "execution_count": 11,
   "metadata": {},
   "outputs": [],
   "source": [
    "# using Image data augmentation \n",
    "# Image data argumentation is a technique that can be used to artificially expand the size of a \n",
    "# training dataset by creating modified versions of images in the dataset \n",
    "\n",
    "# creating the ImageDataGenerator object\n",
    "data_gen = ImageDataGenerator(\n",
    "    width_shift_range=0.1,\n",
    "    height_shift_range=0.1,\n",
    "    zoom_range=0.2,\n",
    "    shear_range=0.1,\n",
    "    rotation_range=10\n",
    ")"
   ]
  },
  {
   "cell_type": "code",
   "execution_count": 12,
   "metadata": {},
   "outputs": [],
   "source": [
    "# generation and fiting the train images\n",
    "data_gen.fit(X_train)"
   ]
  },
  {
   "cell_type": "markdown",
   "metadata": {},
   "source": [
    "## Making the ML Model to classify between Mask and No-Mask images"
   ]
  },
  {
   "cell_type": "code",
   "execution_count": 13,
   "metadata": {
    "scrolled": true
   },
   "outputs": [
    {
     "name": "stdout",
     "output_type": "stream",
     "text": [
      "Model: \"sequential\"\n",
      "_________________________________________________________________\n",
      "Layer (type)                 Output Shape              Param #   \n",
      "=================================================================\n",
      "conv2d (Conv2D)              (None, 94, 94, 32)        320       \n",
      "_________________________________________________________________\n",
      "conv2d_1 (Conv2D)            (None, 92, 92, 32)        9248      \n",
      "_________________________________________________________________\n",
      "max_pooling2d (MaxPooling2D) (None, 46, 46, 32)        0         \n",
      "_________________________________________________________________\n",
      "conv2d_2 (Conv2D)            (None, 44, 44, 64)        18496     \n",
      "_________________________________________________________________\n",
      "conv2d_3 (Conv2D)            (None, 42, 42, 64)        36928     \n",
      "_________________________________________________________________\n",
      "max_pooling2d_1 (MaxPooling2 (None, 21, 21, 64)        0         \n",
      "_________________________________________________________________\n",
      "dropout (Dropout)            (None, 21, 21, 64)        0         \n",
      "_________________________________________________________________\n",
      "flatten (Flatten)            (None, 28224)             0         \n",
      "_________________________________________________________________\n",
      "dense (Dense)                (None, 64)                1806400   \n",
      "_________________________________________________________________\n",
      "dropout_1 (Dropout)          (None, 64)                0         \n",
      "_________________________________________________________________\n",
      "dense_1 (Dense)              (None, 2)                 130       \n",
      "=================================================================\n",
      "Total params: 1,871,522\n",
      "Trainable params: 1,871,522\n",
      "Non-trainable params: 0\n",
      "_________________________________________________________________\n"
     ]
    }
   ],
   "source": [
    "size_of_filter = (3, 3)\n",
    "size_of_pool = (2, 2)\n",
    "\n",
    "# Making the layers\n",
    "model = Sequential()\n",
    "model.add((Conv2D(32, size_of_filter, input_shape=(IMAGE_SIZE, IMAGE_SIZE, 1), activation='relu')))\n",
    "model.add((Conv2D(32, size_of_filter, activation='relu')))\n",
    "model.add(MaxPooling2D(pool_size=size_of_pool))\n",
    "\n",
    "model.add((Conv2D(64, size_of_filter, activation='relu')))\n",
    "model.add((Conv2D(64, size_of_filter, activation='relu')))\n",
    "model.add(MaxPooling2D(pool_size=size_of_pool))\n",
    "model.add(Dropout(0.5))\n",
    "\n",
    "model.add(Flatten())\n",
    "model.add(Dense(64, activation='relu'))\n",
    "model.add(Dropout(0.5))\n",
    "model.add(Dense(number_of_classes, activation='softmax'))\n",
    "model.compile(Adam(lr=0.001), loss='categorical_crossentropy', metrics=['accuracy'])\n",
    "\n",
    "model.summary()\n",
    "\n",
    "\n"
   ]
  },
  {
   "cell_type": "markdown",
   "metadata": {},
   "source": [
    "#### Fitting the data into the Model"
   ]
  },
  {
   "cell_type": "code",
   "execution_count": 14,
   "metadata": {
    "scrolled": true
   },
   "outputs": [
    {
     "name": "stdout",
     "output_type": "stream",
     "text": [
      "Epoch 1/60\n",
      "80/80 [==============================] - 58s 718ms/step - loss: 0.6204 - accuracy: 0.6113 - val_loss: 0.1308 - val_accuracy: 0.9689\n",
      "Epoch 2/60\n",
      "80/80 [==============================] - 57s 707ms/step - loss: 0.2484 - accuracy: 0.9108 - val_loss: 0.0731 - val_accuracy: 0.9736\n",
      "Epoch 3/60\n",
      "80/80 [==============================] - 55s 687ms/step - loss: 0.1964 - accuracy: 0.9224 - val_loss: 0.0700 - val_accuracy: 0.9767\n",
      "Epoch 4/60\n",
      "80/80 [==============================] - 55s 687ms/step - loss: 0.1658 - accuracy: 0.9394 - val_loss: 0.1016 - val_accuracy: 0.9627\n",
      "Epoch 5/60\n",
      "80/80 [==============================] - 55s 686ms/step - loss: 0.1778 - accuracy: 0.9379 - val_loss: 0.0673 - val_accuracy: 0.9767\n",
      "Epoch 6/60\n",
      "80/80 [==============================] - 59s 736ms/step - loss: 0.1570 - accuracy: 0.9370 - val_loss: 0.0584 - val_accuracy: 0.9845\n",
      "Epoch 7/60\n",
      "80/80 [==============================] - 59s 733ms/step - loss: 0.1287 - accuracy: 0.9536 - val_loss: 0.0643 - val_accuracy: 0.9736\n",
      "Epoch 8/60\n",
      "80/80 [==============================] - 59s 738ms/step - loss: 0.1326 - accuracy: 0.9548 - val_loss: 0.0476 - val_accuracy: 0.9876\n",
      "Epoch 9/60\n",
      "80/80 [==============================] - 59s 738ms/step - loss: 0.1269 - accuracy: 0.9568 - val_loss: 0.0437 - val_accuracy: 0.9860\n",
      "Epoch 10/60\n",
      "80/80 [==============================] - 59s 737ms/step - loss: 0.1122 - accuracy: 0.9561 - val_loss: 0.0520 - val_accuracy: 0.9860\n",
      "Epoch 11/60\n",
      "80/80 [==============================] - 59s 742ms/step - loss: 0.1116 - accuracy: 0.9581 - val_loss: 0.0915 - val_accuracy: 0.9689\n",
      "Epoch 12/60\n",
      "80/80 [==============================] - 59s 736ms/step - loss: 0.1270 - accuracy: 0.9552 - val_loss: 0.0559 - val_accuracy: 0.9829\n",
      "Epoch 13/60\n",
      "80/80 [==============================] - 59s 737ms/step - loss: 0.1150 - accuracy: 0.9593 - val_loss: 0.0435 - val_accuracy: 0.9891\n",
      "Epoch 14/60\n",
      "80/80 [==============================] - 59s 736ms/step - loss: 0.1007 - accuracy: 0.9669 - val_loss: 0.0372 - val_accuracy: 0.9876\n",
      "Epoch 15/60\n",
      "80/80 [==============================] - 59s 743ms/step - loss: 0.0895 - accuracy: 0.9671 - val_loss: 0.0389 - val_accuracy: 0.9860\n",
      "Epoch 16/60\n",
      "80/80 [==============================] - 59s 739ms/step - loss: 0.0829 - accuracy: 0.9721 - val_loss: 0.0557 - val_accuracy: 0.9767\n",
      "Epoch 17/60\n",
      "80/80 [==============================] - 60s 746ms/step - loss: 0.0819 - accuracy: 0.9675 - val_loss: 0.0418 - val_accuracy: 0.9845\n",
      "Epoch 18/60\n",
      "80/80 [==============================] - 58s 728ms/step - loss: 0.0912 - accuracy: 0.9660 - val_loss: 0.0436 - val_accuracy: 0.9845\n",
      "Epoch 19/60\n",
      "80/80 [==============================] - 61s 759ms/step - loss: 0.0902 - accuracy: 0.9661 - val_loss: 0.0358 - val_accuracy: 0.9860\n",
      "Epoch 20/60\n",
      "80/80 [==============================] - 59s 743ms/step - loss: 0.0839 - accuracy: 0.9697 - val_loss: 0.0409 - val_accuracy: 0.9860\n",
      "Epoch 21/60\n",
      "80/80 [==============================] - 60s 748ms/step - loss: 0.0772 - accuracy: 0.9704 - val_loss: 0.0424 - val_accuracy: 0.9876\n",
      "Epoch 22/60\n",
      "80/80 [==============================] - 60s 749ms/step - loss: 0.0825 - accuracy: 0.9713 - val_loss: 0.0448 - val_accuracy: 0.9860\n",
      "Epoch 23/60\n",
      "80/80 [==============================] - 60s 749ms/step - loss: 0.0554 - accuracy: 0.9795 - val_loss: 0.0311 - val_accuracy: 0.9938\n",
      "Epoch 24/60\n",
      "80/80 [==============================] - 59s 741ms/step - loss: 0.0566 - accuracy: 0.9803 - val_loss: 0.0521 - val_accuracy: 0.9783\n",
      "Epoch 25/60\n",
      "80/80 [==============================] - 60s 752ms/step - loss: 0.0760 - accuracy: 0.9786 - val_loss: 0.0406 - val_accuracy: 0.9814\n",
      "Epoch 26/60\n",
      "80/80 [==============================] - 59s 744ms/step - loss: 0.0746 - accuracy: 0.9776 - val_loss: 0.0271 - val_accuracy: 0.9907\n",
      "Epoch 27/60\n",
      "80/80 [==============================] - 60s 753ms/step - loss: 0.0774 - accuracy: 0.9750 - val_loss: 0.0290 - val_accuracy: 0.9907\n",
      "Epoch 28/60\n",
      "80/80 [==============================] - 59s 739ms/step - loss: 0.0690 - accuracy: 0.9737 - val_loss: 0.0390 - val_accuracy: 0.9891\n",
      "Epoch 29/60\n",
      "80/80 [==============================] - 61s 756ms/step - loss: 0.0549 - accuracy: 0.9794 - val_loss: 0.0212 - val_accuracy: 0.9938\n",
      "Epoch 30/60\n",
      "80/80 [==============================] - 60s 748ms/step - loss: 0.0449 - accuracy: 0.9847 - val_loss: 0.0411 - val_accuracy: 0.9860\n",
      "Epoch 31/60\n",
      "80/80 [==============================] - 68s 845ms/step - loss: 0.0758 - accuracy: 0.9752 - val_loss: 0.0412 - val_accuracy: 0.9876\n",
      "Epoch 32/60\n",
      "80/80 [==============================] - 67s 832ms/step - loss: 0.0593 - accuracy: 0.9813 - val_loss: 0.0378 - val_accuracy: 0.9829\n",
      "Epoch 33/60\n",
      "80/80 [==============================] - 71s 884ms/step - loss: 0.0537 - accuracy: 0.9813 - val_loss: 0.0294 - val_accuracy: 0.9922\n",
      "Epoch 34/60\n",
      "80/80 [==============================] - 65s 811ms/step - loss: 0.0593 - accuracy: 0.9814 - val_loss: 0.0281 - val_accuracy: 0.9891\n",
      "Epoch 35/60\n",
      "80/80 [==============================] - 62s 776ms/step - loss: 0.0589 - accuracy: 0.9786 - val_loss: 0.0390 - val_accuracy: 0.9891\n",
      "Epoch 36/60\n",
      "80/80 [==============================] - 58s 732ms/step - loss: 0.0673 - accuracy: 0.9806 - val_loss: 0.0457 - val_accuracy: 0.9860\n",
      "Epoch 37/60\n",
      "80/80 [==============================] - 63s 785ms/step - loss: 0.0568 - accuracy: 0.9795 - val_loss: 0.0301 - val_accuracy: 0.9860\n",
      "Epoch 38/60\n",
      "80/80 [==============================] - 68s 847ms/step - loss: 0.0675 - accuracy: 0.9761 - val_loss: 0.0490 - val_accuracy: 0.9798\n",
      "Epoch 39/60\n",
      "80/80 [==============================] - 65s 807ms/step - loss: 0.0715 - accuracy: 0.9764 - val_loss: 0.0281 - val_accuracy: 0.9938\n",
      "Epoch 40/60\n",
      "80/80 [==============================] - 63s 788ms/step - loss: 0.0528 - accuracy: 0.9824 - val_loss: 0.0268 - val_accuracy: 0.9876\n",
      "Epoch 41/60\n",
      "80/80 [==============================] - 70s 872ms/step - loss: 0.0569 - accuracy: 0.9835 - val_loss: 0.0317 - val_accuracy: 0.9891\n",
      "Epoch 42/60\n",
      "80/80 [==============================] - 64s 796ms/step - loss: 0.0568 - accuracy: 0.9828 - val_loss: 0.0204 - val_accuracy: 0.9922\n",
      "Epoch 43/60\n",
      "80/80 [==============================] - 65s 816ms/step - loss: 0.0394 - accuracy: 0.9873 - val_loss: 0.0237 - val_accuracy: 0.9907\n",
      "Epoch 44/60\n",
      "80/80 [==============================] - 61s 762ms/step - loss: 0.0501 - accuracy: 0.9773 - val_loss: 0.0274 - val_accuracy: 0.9922\n",
      "Epoch 45/60\n",
      "80/80 [==============================] - 63s 790ms/step - loss: 0.0403 - accuracy: 0.9843 - val_loss: 0.0229 - val_accuracy: 0.9907\n",
      "Epoch 46/60\n",
      "80/80 [==============================] - 59s 741ms/step - loss: 0.0524 - accuracy: 0.9789 - val_loss: 0.0205 - val_accuracy: 0.9938\n",
      "Epoch 47/60\n",
      "80/80 [==============================] - 58s 721ms/step - loss: 0.0403 - accuracy: 0.9809 - val_loss: 0.0257 - val_accuracy: 0.9922\n",
      "Epoch 48/60\n",
      "80/80 [==============================] - 57s 713ms/step - loss: 0.0657 - accuracy: 0.9768 - val_loss: 0.0268 - val_accuracy: 0.9922\n",
      "Epoch 49/60\n",
      "80/80 [==============================] - 57s 715ms/step - loss: 0.0578 - accuracy: 0.9803 - val_loss: 0.0314 - val_accuracy: 0.9907\n",
      "Epoch 50/60\n",
      "80/80 [==============================] - 59s 745ms/step - loss: 0.0444 - accuracy: 0.9893 - val_loss: 0.0276 - val_accuracy: 0.9891\n",
      "Epoch 51/60\n",
      "80/80 [==============================] - 59s 730ms/step - loss: 0.0449 - accuracy: 0.9886 - val_loss: 0.0218 - val_accuracy: 0.9922\n",
      "Epoch 52/60\n",
      "80/80 [==============================] - 62s 771ms/step - loss: 0.0400 - accuracy: 0.9895 - val_loss: 0.0218 - val_accuracy: 0.9922\n",
      "Epoch 53/60\n",
      "80/80 [==============================] - 88s 1s/step - loss: 0.0688 - accuracy: 0.9810 - val_loss: 0.0301 - val_accuracy: 0.9907\n",
      "Epoch 54/60\n",
      "80/80 [==============================] - 77s 961ms/step - loss: 0.0448 - accuracy: 0.9857 - val_loss: 0.0313 - val_accuracy: 0.9876\n",
      "Epoch 55/60\n",
      "80/80 [==============================] - 74s 929ms/step - loss: 0.0794 - accuracy: 0.9753 - val_loss: 0.0207 - val_accuracy: 0.9891\n",
      "Epoch 56/60\n",
      "80/80 [==============================] - 71s 888ms/step - loss: 0.0372 - accuracy: 0.9866 - val_loss: 0.0467 - val_accuracy: 0.9891\n",
      "Epoch 57/60\n",
      "80/80 [==============================] - 64s 796ms/step - loss: 0.0643 - accuracy: 0.9807 - val_loss: 0.0236 - val_accuracy: 0.9907\n",
      "Epoch 58/60\n",
      "80/80 [==============================] - 72s 896ms/step - loss: 0.0206 - accuracy: 0.9924 - val_loss: 0.0192 - val_accuracy: 0.9953\n",
      "Epoch 59/60\n",
      "80/80 [==============================] - 79s 990ms/step - loss: 0.0501 - accuracy: 0.9843 - val_loss: 0.0221 - val_accuracy: 0.9922\n",
      "Epoch 60/60\n",
      "80/80 [==============================] - 69s 852ms/step - loss: 0.0323 - accuracy: 0.9879 - val_loss: 0.0382 - val_accuracy: 0.9845\n"
     ]
    }
   ],
   "source": [
    "history = model.fit(\n",
    "    data_gen.flow(X_train, y_train, batch_size=BATCH_SIZE),\n",
    "    steps_per_epoch = len(X_train) // BATCH_SIZE,\n",
    "    epochs = EPOCHS,\n",
    "    validation_data = (X_validation, y_validation),\n",
    "    shuffle = 1\n",
    ")"
   ]
  },
  {
   "cell_type": "markdown",
   "metadata": {},
   "source": [
    "### Plotting the training loss and accuracy of the model"
   ]
  },
  {
   "cell_type": "code",
   "execution_count": 15,
   "metadata": {},
   "outputs": [
    {
     "data": {
      "image/png": "[encoded data removed]",
      "text/plain": [
       "<Figure size 864x576 with 1 Axes>"
      ]
     },
     "metadata": {},
     "output_type": "display_data"
    }
   ],
   "source": [
    "plt.style.use(\"ggplot\")\n",
    "fig, ax = plt.subplots(figsize=(12, 8))\n",
    "\n",
    "x_axis = np.arange(0, EPOCHS)\n",
    "\n",
    "ax.plot(x_axis, history.history['loss'], label=\"Train Loss\")\n",
    "ax.plot(x_axis, history.history['val_loss'], label=\"Val Loss\")\n",
    "ax.plot(x_axis, history.history['accuracy'], label=\"Train Acc\")\n",
    "ax.plot(x_axis, history.history['val_accuracy'], label=\"Val Acc\")\n",
    "\n",
    "ax.set(\n",
    "    title = \"Training Loss and Accuracy\",\n",
    "    xlabel = \"Epoch No.\",\n",
    "    ylabel = \"Loss/Accuracy\"\n",
    ")\n",
    "\n",
    "ax.legend(loc=\"lower left\")\n",
    "\n",
    "plt.show()"
   ]
  },
  {
   "cell_type": "markdown",
   "metadata": {},
   "source": [
    "## Evaluating the Model"
   ]
  },
  {
   "cell_type": "code",
   "execution_count": 16,
   "metadata": {},
   "outputs": [
    {
     "name": "stdout",
     "output_type": "stream",
     "text": [
      "26/26 [==============================] - 5s 194ms/step - loss: 0.0139 - accuracy: 0.9950\n"
     ]
    },
    {
     "data": {
      "text/plain": [
       "[0.013913455419242382, 0.9950310587882996]"
      ]
     },
     "execution_count": 16,
     "metadata": {},
     "output_type": "execute_result"
    }
   ],
   "source": [
    "model.evaluate(X_test, y_test)"
   ]
  },
  {
   "cell_type": "markdown",
   "metadata": {},
   "source": [
    "## Saving the model"
   ]
  },
  {
   "cell_type": "code",
   "execution_count": 17,
   "metadata": {},
   "outputs": [
    {
     "name": "stdout",
     "output_type": "stream",
     "text": [
      "INFO:tensorflow:Assets written to: ./Data/mask_detection_model.model\\assets\n"
     ]
    }
   ],
   "source": [
    "model.save(MODEL_PATH)"
   ]
  },
  {
   "cell_type": "markdown",
   "metadata": {},
   "source": [
    "# The model looks good with idk accuracy, so lets go to the next step"
   ]
  }
 ],
 "metadata": {
  "kernelspec": {
   "display_name": "Python 3",
   "language": "python",
   "name": "python3"
  },
  "language_info": {
   "codemirror_mode": {
    "name": "ipython",
    "version": 3
   },
   "file_extension": ".py",
   "mimetype": "text/x-python",
   "name": "python",
   "nbconvert_exporter": "python",
   "pygments_lexer": "ipython3",
   "version": "3.8.5"
  }
 },
 "nbformat": 4,
 "nbformat_minor": 4
}
