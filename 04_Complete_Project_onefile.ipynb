{
 "cells": [
  {
   "cell_type": "markdown",
   "metadata": {},
   "source": [
    "# Student's Mask Detector\n",
    "An AI system that will check for the students in the class who are not wearing mask and will notify it to the authorities\n",
    "> To create this project we need to do a few steps\n",
    "- Problem Scoping\n",
    "- Data Cleaning\n",
    "- Modeling\n",
    "- Testing \n",
    "- The Main Student's mask detection system"
   ]
  },
  {
   "cell_type": "markdown",
   "metadata": {},
   "source": [
    "## 00. Problem Scoping"
   ]
  },
  {
   "cell_type": "markdown",
   "metadata": {},
   "source": [
    "![COTM](./Assets/COTM2.png)\n",
    "By [AI Students Communtiy](https://aistudent.community), event [COTM](https://aistudent.community/single_event/12)\n",
    "<hr>\n",
    "\n",
    "**Problem**: Your school has begun with many strict measures to ensure safety of all the students. Safe distance is to be maintained, everyone should wear a mask, etc. but while everyone is expected to take measures to stay safe, it is noticed that many students take off their masks in the classroom, usually in the absence of any teacher.\n",
    "<hr>\n",
    "\n",
    "**Challenge**: You are called by your school authorities to use your AI skills to build a model to detect names of students who are not wearing their masks properly in the classrooms, with other features that you feel are important to maintain safety in the classroom environment."
   ]
  },
  {
   "cell_type": "markdown",
   "metadata": {},
   "source": [
    "#### To Solve this challange Our programme should\n",
    "1. Detect Faces\n",
    "2. Detect if that face is wearing a mask or not\n",
    "3. Take a screenshot of the face or crop the face from the webcam feed and send it through mail"
   ]
  },
  {
   "cell_type": "markdown",
   "metadata": {},
   "source": [
    "## Imports"
   ]
  },
  {
   "cell_type": "code",
   "execution_count": 1,
   "metadata": {},
   "outputs": [],
   "source": [
    "# Standard Imports\n",
    "%matplotlib inline\n",
    "import numpy as np\n",
    "import cv2 \n",
    "import os\n",
    "import matplotlib.pyplot as plt"
   ]
  },
  {
   "cell_type": "code",
   "execution_count": 2,
   "metadata": {},
   "outputs": [],
   "source": [
    "# importing function to split the data\n",
    "from sklearn.model_selection import train_test_split"
   ]
  },
  {
   "cell_type": "code",
   "execution_count": 3,
   "metadata": {},
   "outputs": [],
   "source": [
    "# Imports for preprocessing the data\n",
    "from keras.preprocessing.image import ImageDataGenerator\n",
    "from keras.utils.np_utils import to_categorical"
   ]
  },
  {
   "cell_type": "code",
   "execution_count": 4,
   "metadata": {},
   "outputs": [],
   "source": [
    "# Imports for making of the Model\n",
    "from keras.models import Sequential\n",
    "from keras.layers import Conv2D, Dense, MaxPooling2D, Activation, Dropout, Flatten\n",
    "from keras.optimizers import Adam"
   ]
  },
  {
   "cell_type": "code",
   "execution_count": 5,
   "metadata": {},
   "outputs": [],
   "source": [
    "# Import for loding the saved model\n",
    "from keras.models import load_model"
   ]
  },
  {
   "cell_type": "markdown",
   "metadata": {},
   "source": [
    "## Defining the Constants"
   ]
  },
  {
   "cell_type": "code",
   "execution_count": 6,
   "metadata": {},
   "outputs": [],
   "source": [
    "# Constants\n",
    "DATASET_PATH = './Dataset'\n",
    "IMAGE_SIZE = 32  # To convert the Image into size 32 x 32 px\n",
    "\n",
    "TEST_RATIO = 0.2\n",
    "VAL_RATIO = 0.2 # Validation ratio\n",
    "\n",
    "# Model constants\n",
    "BATCH_SIZE = 50\n",
    "EPOCHS = 25\n",
    "MODEL_PATH = './Data/onefile_mask_detection_model.model' \n",
    "\n",
    "THRESHOLD = 0.90  # only if the model is sure more than 90% then only give the prediction\n",
    "\n",
    "WITHOUT_MASK = 1"
   ]
  },
  {
   "cell_type": "code",
   "execution_count": 7,
   "metadata": {},
   "outputs": [],
   "source": [
    "AUTHORITY_EMAIL = None\n",
    "MY_MAIL = None\n",
    "PASSWORD = None"
   ]
  },
  {
   "cell_type": "markdown",
   "metadata": {},
   "source": [
    "# 01. Data Cleaning\n",
    "### First let us start with making a model which will detect if theh face is wearing a mask or not\n",
    "**To create this we need to clearn our data so that it is uniform and will give us the optimum results**"
   ]
  },
  {
   "cell_type": "markdown",
   "metadata": {},
   "source": [
    "## The Dataset used is a subpart of [Face Mask ~12K Images Dataset by Ashish Jangra on Kaggle](https://www.kaggle.com/ashishjangra27/face-mask-12k-images-dataset)\n",
    "### We are using approx. 4,000 Images form the dataset"
   ]
  },
  {
   "cell_type": "code",
   "execution_count": 8,
   "metadata": {},
   "outputs": [],
   "source": [
    "images = []\n",
    "class_no = []"
   ]
  },
  {
   "cell_type": "code",
   "execution_count": 9,
   "metadata": {},
   "outputs": [
    {
     "data": {
      "text/plain": [
       "['WithMask', 'WithoutMask']"
      ]
     },
     "execution_count": 9,
     "metadata": {},
     "output_type": "execute_result"
    }
   ],
   "source": [
    "# Getting the classes form the dataset\n",
    "classes = os.listdir(DATASET_PATH)\n",
    "classes"
   ]
  },
  {
   "cell_type": "markdown",
   "metadata": {},
   "source": [
    "### Importing the Dataset"
   ]
  },
  {
   "cell_type": "code",
   "execution_count": 10,
   "metadata": {},
   "outputs": [
    {
     "name": "stdout",
     "output_type": "stream",
     "text": [
      "[+] Importing the Classes...\n",
      "[+] Imported WithMask or 0 class\n",
      "[+] Imported WithoutMask or 1 class\n"
     ]
    }
   ],
   "source": [
    "print(\"[+] Importing the Classes...\")\n",
    "\n",
    "for i, class_ in enumerate(classes):\n",
    "    # Get the names of all the pictures in the class\n",
    "    image_name_list = os.listdir(DATASET_PATH + \"/\" + class_)\n",
    "    \n",
    "    # Read every image in the class\n",
    "    for image_name in image_name_list:\n",
    "        img = cv2.imread(DATASET_PATH + \"/\" + class_ + \"/\" + image_name)\n",
    "        img = cv2.resize(img, (IMAGE_SIZE, IMAGE_SIZE))\n",
    "        \n",
    "        # add the image and class(as a number) to the data list\n",
    "        images.append(img)\n",
    "        class_no.append(i)\n",
    "        \n",
    "    print(f\"[+] Imported {class_} or {i} class\")"
   ]
  },
  {
   "cell_type": "markdown",
   "metadata": {},
   "source": [
    "Converting these lists into np.array"
   ]
  },
  {
   "cell_type": "code",
   "execution_count": 11,
   "metadata": {},
   "outputs": [],
   "source": [
    "images = np.array(images)\n",
    "class_no = np.array(class_no)"
   ]
  },
  {
   "cell_type": "code",
   "execution_count": 12,
   "metadata": {},
   "outputs": [
    {
     "data": {
      "text/plain": [
       "(4024, 4024, array([0, 1]))"
      ]
     },
     "execution_count": 12,
     "metadata": {},
     "output_type": "execute_result"
    }
   ],
   "source": [
    "# Checking for the data length and unique classes\n",
    "len(images), len(class_no), np.unique(class_no)"
   ]
  },
  {
   "cell_type": "markdown",
   "metadata": {},
   "source": [
    "Used _stackoverflow_ to get the unique `values` and their `counts`, [Question link](https://stackoverflow.com/a/25943480) "
   ]
  },
  {
   "cell_type": "code",
   "execution_count": 13,
   "metadata": {},
   "outputs": [],
   "source": [
    "values, counts = np.unique(class_no, return_counts=True)"
   ]
  },
  {
   "cell_type": "markdown",
   "metadata": {},
   "source": [
    "### Plotting the number of data for each classes"
   ]
  },
  {
   "cell_type": "code",
   "execution_count": 14,
   "metadata": {},
   "outputs": [
    {
     "data": {
      "image/png": "[encoded data removed]",
      "text/plain": [
       "<Figure size 864x576 with 1 Axes>"
      ]
     },
     "metadata": {},
     "output_type": "display_data"
    }
   ],
   "source": [
    "plt.style.use('ggplot')\n",
    "fig, ax = plt.subplots(figsize=(12, 8))\n",
    "\n",
    "ax.bar(values, counts, tick_label=classes)\n",
    "ax.set(\n",
    "    title=\"Bar Plot of Classes & Images\",\n",
    "    xlabel=\"Classes\",\n",
    "    ylabel=\"No of Images\",\n",
    "    ylim=[1550, 2050]\n",
    ")\n",
    "\n",
    "plt.show()"
   ]
  },
  {
   "cell_type": "markdown",
   "metadata": {},
   "source": [
    "## Data is converted"
   ]
  },
  {
   "cell_type": "markdown",
   "metadata": {},
   "source": [
    "<hr>\n",
    "<hr>"
   ]
  },
  {
   "cell_type": "markdown",
   "metadata": {},
   "source": [
    "# 02. Modeling"
   ]
  },
  {
   "cell_type": "markdown",
   "metadata": {},
   "source": [
    "We need to create a Model which will **_classify_** between **faces wearing mask** and **faces not wearing mask**\n",
    "![face with mask and face without mask](./Assets/mask_no_mask.png)"
   ]
  },
  {
   "cell_type": "markdown",
   "metadata": {},
   "source": [
    "###### As our problem is of classification we will have to make a Deep learning classification Neural Network model "
   ]
  },
  {
   "cell_type": "code",
   "execution_count": 15,
   "metadata": {},
   "outputs": [
    {
     "data": {
      "text/plain": [
       "2"
      ]
     },
     "execution_count": 15,
     "metadata": {},
     "output_type": "execute_result"
    }
   ],
   "source": [
    "number_of_classes = len(np.unique(class_no)) # Getting the total number of unique classes\n",
    "number_of_classes"
   ]
  },
  {
   "cell_type": "markdown",
   "metadata": {},
   "source": [
    "### Spliting the data into train, test and validation set\n",
    "`X` are the features and `y` is the target"
   ]
  },
  {
   "cell_type": "code",
   "execution_count": 16,
   "metadata": {},
   "outputs": [
    {
     "name": "stdout",
     "output_type": "stream",
     "text": [
      "Train set -> X: (2575, 32, 32, 3), y: (2575,)\n",
      "Test set -> X: (805, 32, 32, 3), y: (805,)\n",
      "Validation set -> X: (644, 32, 32, 3), y: (644,)\n"
     ]
    }
   ],
   "source": [
    "X_train, X_test, y_train, y_test = train_test_split(images, class_no, test_size=TEST_RATIO)\n",
    "X_train, X_validation, y_train, y_validation = train_test_split(X_train, y_train, test_size=VAL_RATIO)\n",
    "\n",
    "# checking the shapes of the data\n",
    "print(f\"Train set -> X: {X_train.shape}, y: {y_train.shape}\")\n",
    "print(f\"Test set -> X: {X_test.shape}, y: {y_test.shape}\")\n",
    "print(f\"Validation set -> X: {X_validation.shape}, y: {y_validation.shape}\")"
   ]
  },
  {
   "cell_type": "markdown",
   "metadata": {},
   "source": [
    "### Before we make the model, we should:\n",
    "- Reshape the sets to the needed shape\n",
    "- Increase the contrast of the image for better results using [cv2.equalizeHist()](https://docs.opencv.org/master/d5/daf/tutorial_py_histogram_equalization.html)\n",
    "- Convert the integer values to float values between 0 and 1\n",
    "- And also make sure they all are also grey for good results\n",
    "- The target array should be categorical "
   ]
  },
  {
   "cell_type": "code",
   "execution_count": 17,
   "metadata": {},
   "outputs": [],
   "source": [
    "# defining a function to preprocess the images\n",
    "def preprocess_image(image):\n",
    "    \"\"\"Takes an image and returns the preprocesses version of it.\"\"\"\n",
    "    image = cv2.cvtColor(image, cv2.COLOR_BGR2GRAY)\n",
    "    \n",
    "    image = cv2.equalizeHist(image)  # Increasing the contrast of the image\n",
    "    \n",
    "    image = image / 255  # converting the image to float\n",
    "    \n",
    "    return image"
   ]
  },
  {
   "cell_type": "code",
   "execution_count": 18,
   "metadata": {},
   "outputs": [],
   "source": [
    "# Preprocessing the Images\n",
    "X_train = np.array(list(map(preprocess_image, X_train)))\n",
    "X_test = np.array(list(map(preprocess_image, X_test)))\n",
    "X_validation = np.array(list(map(preprocess_image, X_validation)))\n",
    "\n",
    "# Reshaping the sets\n",
    "# the new shape should be (previous_shape[0], previous_shape[0], previous_shape[0], 1)  \n",
    "X_train = X_train.reshape(X_train.shape[0], X_train.shape[1], X_train.shape[2], 1)\n",
    "X_test = X_test.reshape(X_test.shape[0], X_test.shape[1], X_test.shape[2], 1)\n",
    "X_validation = X_validation.reshape(X_validation.shape[0], X_validation.shape[1], X_validation.shape[2], 1)"
   ]
  },
  {
   "cell_type": "code",
   "execution_count": 19,
   "metadata": {},
   "outputs": [],
   "source": [
    "# turning the y sets (target sets) into categorical arays\n",
    "# using a built in function in keras for one-hot-encoding the sets\n",
    "y_train = to_categorical(y_train, number_of_classes)\n",
    "y_test = to_categorical(y_test, number_of_classes)\n",
    "y_validation = to_categorical(y_validation, number_of_classes)"
   ]
  },
  {
   "cell_type": "code",
   "execution_count": 20,
   "metadata": {},
   "outputs": [],
   "source": [
    "# using Image data augmentation \n",
    "# Image data argumentation is a technique that can be used to artificially expand the size of a \n",
    "# training dataset by creating modified versions of images in the dataset \n",
    "\n",
    "# creating the ImageDataGenerator object\n",
    "data_gen = ImageDataGenerator(\n",
    "    width_shift_range=0.1,\n",
    "    height_shift_range=0.1,\n",
    "    zoom_range=0.2,\n",
    "    shear_range=0.1,\n",
    "    rotation_range=10\n",
    ")"
   ]
  },
  {
   "cell_type": "code",
   "execution_count": 21,
   "metadata": {},
   "outputs": [],
   "source": [
    "# generation and fiting the train images\n",
    "data_gen.fit(X_train)"
   ]
  },
  {
   "cell_type": "markdown",
   "metadata": {},
   "source": [
    "## Making the ML Model to classify between Mask and No-Mask images"
   ]
  },
  {
   "cell_type": "code",
   "execution_count": 22,
   "metadata": {},
   "outputs": [
    {
     "name": "stdout",
     "output_type": "stream",
     "text": [
      "Model: \"sequential\"\n",
      "_________________________________________________________________\n",
      "Layer (type)                 Output Shape              Param #   \n",
      "=================================================================\n",
      "conv2d (Conv2D)              (None, 30, 30, 32)        320       \n",
      "_________________________________________________________________\n",
      "conv2d_1 (Conv2D)            (None, 28, 28, 32)        9248      \n",
      "_________________________________________________________________\n",
      "max_pooling2d (MaxPooling2D) (None, 14, 14, 32)        0         \n",
      "_________________________________________________________________\n",
      "conv2d_2 (Conv2D)            (None, 12, 12, 64)        18496     \n",
      "_________________________________________________________________\n",
      "conv2d_3 (Conv2D)            (None, 10, 10, 64)        36928     \n",
      "_________________________________________________________________\n",
      "max_pooling2d_1 (MaxPooling2 (None, 5, 5, 64)          0         \n",
      "_________________________________________________________________\n",
      "dropout (Dropout)            (None, 5, 5, 64)          0         \n",
      "_________________________________________________________________\n",
      "flatten (Flatten)            (None, 1600)              0         \n",
      "_________________________________________________________________\n",
      "dense (Dense)                (None, 64)                102464    \n",
      "_________________________________________________________________\n",
      "dropout_1 (Dropout)          (None, 64)                0         \n",
      "_________________________________________________________________\n",
      "dense_1 (Dense)              (None, 2)                 130       \n",
      "=================================================================\n",
      "Total params: 167,586\n",
      "Trainable params: 167,586\n",
      "Non-trainable params: 0\n",
      "_________________________________________________________________\n"
     ]
    }
   ],
   "source": [
    "size_of_filter = (3, 3)\n",
    "size_of_pool = (2, 2)\n",
    "\n",
    "# Making the layers\n",
    "model = Sequential()\n",
    "model.add((Conv2D(32, size_of_filter, input_shape=(IMAGE_SIZE, IMAGE_SIZE, 1), activation='relu')))\n",
    "model.add((Conv2D(32, size_of_filter, activation='relu')))\n",
    "model.add(MaxPooling2D(pool_size=size_of_pool))\n",
    "\n",
    "model.add((Conv2D(64, size_of_filter, activation='relu')))\n",
    "model.add((Conv2D(64, size_of_filter, activation='relu')))\n",
    "model.add(MaxPooling2D(pool_size=size_of_pool))\n",
    "model.add(Dropout(0.5))\n",
    "\n",
    "model.add(Flatten())\n",
    "model.add(Dense(64, activation='relu'))\n",
    "model.add(Dropout(0.5))\n",
    "model.add(Dense(number_of_classes, activation='softmax'))\n",
    "model.compile(Adam(lr=0.001), loss='categorical_crossentropy', metrics=['accuracy'])\n",
    "\n",
    "model.summary()"
   ]
  },
  {
   "cell_type": "markdown",
   "metadata": {},
   "source": [
    "### Fitting the data into the model"
   ]
  },
  {
   "cell_type": "code",
   "execution_count": 23,
   "metadata": {},
   "outputs": [
    {
     "name": "stdout",
     "output_type": "stream",
     "text": [
      "Epoch 1/25\n",
      "51/51 [==============================] - 10s 163ms/step - loss: 0.6918 - accuracy: 0.5161 - val_loss: 0.6289 - val_accuracy: 0.7050\n",
      "Epoch 2/25\n",
      "51/51 [==============================] - 5s 104ms/step - loss: 0.5930 - accuracy: 0.6920 - val_loss: 0.3492 - val_accuracy: 0.8354\n",
      "Epoch 3/25\n",
      "51/51 [==============================] - 5s 97ms/step - loss: 0.4310 - accuracy: 0.8028 - val_loss: 0.2723 - val_accuracy: 0.8758\n",
      "Epoch 4/25\n",
      "51/51 [==============================] - 8s 157ms/step - loss: 0.3480 - accuracy: 0.8460 - val_loss: 0.1480 - val_accuracy: 0.9472\n",
      "Epoch 5/25\n",
      "51/51 [==============================] - 7s 128ms/step - loss: 0.3074 - accuracy: 0.8727 - val_loss: 0.1169 - val_accuracy: 0.9581\n",
      "Epoch 6/25\n",
      "51/51 [==============================] - 6s 126ms/step - loss: 0.2630 - accuracy: 0.8928 - val_loss: 0.1421 - val_accuracy: 0.9394\n",
      "Epoch 7/25\n",
      "51/51 [==============================] - 6s 127ms/step - loss: 0.2300 - accuracy: 0.9007 - val_loss: 0.0976 - val_accuracy: 0.9612\n",
      "Epoch 8/25\n",
      "51/51 [==============================] - 6s 127ms/step - loss: 0.2081 - accuracy: 0.9188 - val_loss: 0.0910 - val_accuracy: 0.9689\n",
      "Epoch 9/25\n",
      "51/51 [==============================] - 7s 138ms/step - loss: 0.1744 - accuracy: 0.9354 - val_loss: 0.0807 - val_accuracy: 0.9720\n",
      "Epoch 10/25\n",
      "51/51 [==============================] - 8s 147ms/step - loss: 0.1912 - accuracy: 0.9305 - val_loss: 0.0937 - val_accuracy: 0.9612\n",
      "Epoch 11/25\n",
      "51/51 [==============================] - 8s 164ms/step - loss: 0.1501 - accuracy: 0.9333 - val_loss: 0.0916 - val_accuracy: 0.9596\n",
      "Epoch 12/25\n",
      "51/51 [==============================] - 8s 166ms/step - loss: 0.1192 - accuracy: 0.9596 - val_loss: 0.0713 - val_accuracy: 0.9783\n",
      "Epoch 13/25\n",
      "51/51 [==============================] - 9s 170ms/step - loss: 0.1442 - accuracy: 0.9456 - val_loss: 0.0694 - val_accuracy: 0.9814\n",
      "Epoch 14/25\n",
      "51/51 [==============================] - 8s 152ms/step - loss: 0.1358 - accuracy: 0.9509 - val_loss: 0.0774 - val_accuracy: 0.9689\n",
      "Epoch 15/25\n",
      "51/51 [==============================] - 8s 155ms/step - loss: 0.1038 - accuracy: 0.9580 - val_loss: 0.0835 - val_accuracy: 0.9705\n",
      "Epoch 16/25\n",
      "51/51 [==============================] - 7s 136ms/step - loss: 0.1028 - accuracy: 0.9626 - val_loss: 0.0668 - val_accuracy: 0.9767\n",
      "Epoch 17/25\n",
      "51/51 [==============================] - 6s 127ms/step - loss: 0.1120 - accuracy: 0.9580 - val_loss: 0.0639 - val_accuracy: 0.9845\n",
      "Epoch 18/25\n",
      "51/51 [==============================] - 7s 127ms/step - loss: 0.0881 - accuracy: 0.9646 - val_loss: 0.0654 - val_accuracy: 0.9829\n",
      "Epoch 19/25\n",
      "51/51 [==============================] - 6s 127ms/step - loss: 0.0959 - accuracy: 0.9630 - val_loss: 0.0621 - val_accuracy: 0.9845\n",
      "Epoch 20/25\n",
      "51/51 [==============================] - 7s 128ms/step - loss: 0.0578 - accuracy: 0.9785 - val_loss: 0.0679 - val_accuracy: 0.9829\n",
      "Epoch 21/25\n",
      "51/51 [==============================] - 7s 138ms/step - loss: 0.0921 - accuracy: 0.9667 - val_loss: 0.0878 - val_accuracy: 0.9783\n",
      "Epoch 22/25\n",
      "51/51 [==============================] - 6s 126ms/step - loss: 0.0781 - accuracy: 0.9743 - val_loss: 0.0650 - val_accuracy: 0.9814\n",
      "Epoch 23/25\n",
      "51/51 [==============================] - 6s 127ms/step - loss: 0.0748 - accuracy: 0.9738 - val_loss: 0.0605 - val_accuracy: 0.9814\n",
      "Epoch 24/25\n",
      "51/51 [==============================] - 6s 127ms/step - loss: 0.0694 - accuracy: 0.9707 - val_loss: 0.0717 - val_accuracy: 0.9814\n",
      "Epoch 25/25\n",
      "51/51 [==============================] - 6s 126ms/step - loss: 0.0749 - accuracy: 0.9735 - val_loss: 0.0704 - val_accuracy: 0.9814\n"
     ]
    }
   ],
   "source": [
    "history = model.fit(\n",
    "    data_gen.flow(X_train, y_train, batch_size=BATCH_SIZE),\n",
    "    steps_per_epoch = len(X_train) // BATCH_SIZE,\n",
    "    epochs = EPOCHS,\n",
    "    validation_data = (X_validation, y_validation),\n",
    "    shuffle = 1\n",
    ")"
   ]
  },
  {
   "cell_type": "markdown",
   "metadata": {},
   "source": [
    "### Plotting the Training loss and the accuracy of the model"
   ]
  },
  {
   "cell_type": "code",
   "execution_count": 24,
   "metadata": {},
   "outputs": [
    {
     "data": {
      "image/png": "[encoded data removed]",
      "text/plain": [
       "<Figure size 864x576 with 1 Axes>"
      ]
     },
     "metadata": {},
     "output_type": "display_data"
    }
   ],
   "source": [
    "plt.style.use(\"ggplot\")\n",
    "fig, ax = plt.subplots(figsize=(12, 8))\n",
    "\n",
    "x_axis = np.arange(0, EPOCHS)\n",
    "\n",
    "ax.plot(x_axis, history.history['loss'], label=\"Train Loss\")\n",
    "ax.plot(x_axis, history.history['val_loss'], label=\"Val Loss\")\n",
    "ax.plot(x_axis, history.history['accuracy'], label=\"Train Acc\")\n",
    "ax.plot(x_axis, history.history['val_accuracy'], label=\"Val Acc\")\n",
    "\n",
    "ax.set(\n",
    "    title = \"Training Loss and Accuracy\",\n",
    "    xlabel = \"Epoch No.\",\n",
    "    ylabel = \"Loss/Accuracy\"\n",
    ")\n",
    "\n",
    "ax.legend(loc=\"lower left\")\n",
    "\n",
    "plt.show()"
   ]
  },
  {
   "cell_type": "markdown",
   "metadata": {},
   "source": [
    "## Evaluating the Model"
   ]
  },
  {
   "cell_type": "code",
   "execution_count": 25,
   "metadata": {},
   "outputs": [
    {
     "name": "stdout",
     "output_type": "stream",
     "text": [
      "26/26 [==============================] - 0s 18ms/step - loss: 0.0688 - accuracy: 0.9863\n"
     ]
    },
    {
     "data": {
      "text/plain": [
       "[0.06883474439382553, 0.9863353967666626]"
      ]
     },
     "execution_count": 25,
     "metadata": {},
     "output_type": "execute_result"
    }
   ],
   "source": [
    "model.evaluate(X_test, y_test)"
   ]
  },
  {
   "cell_type": "markdown",
   "metadata": {},
   "source": [
    "## Saving the Model"
   ]
  },
  {
   "cell_type": "code",
   "execution_count": 26,
   "metadata": {},
   "outputs": [
    {
     "name": "stdout",
     "output_type": "stream",
     "text": [
      "INFO:tensorflow:Assets written to: ./Data/onefile_mask_detection_model.model\\assets\n"
     ]
    }
   ],
   "source": [
    "model.save(MODEL_PATH)"
   ]
  },
  {
   "cell_type": "markdown",
   "metadata": {},
   "source": [
    "#### Our Model has 98.88% accuracy, let's test it!\n",
    "<hr>\n",
    "<hr>"
   ]
  },
  {
   "cell_type": "markdown",
   "metadata": {},
   "source": [
    "# 03. Testing"
   ]
  },
  {
   "cell_type": "code",
   "execution_count": 27,
   "metadata": {},
   "outputs": [],
   "source": [
    "model = load_model(MODEL_PATH)"
   ]
  },
  {
   "cell_type": "code",
   "execution_count": 28,
   "metadata": {},
   "outputs": [],
   "source": [
    "face_detector = cv2.CascadeClassifier('./Data/haarcascade_frontalface_default.xml')"
   ]
  },
  {
   "cell_type": "code",
   "execution_count": 29,
   "metadata": {},
   "outputs": [],
   "source": [
    "# specific constants\n",
    "GREEN = (0, 255, 0)  # Green Color\n",
    "RED = (50, 50, 255)  # Red Color\n",
    "FONT = cv2.FONT_HERSHEY_COMPLEX\n",
    "WITH_MASK = 0\n",
    "WITHOUT_MASK = 1"
   ]
  },
  {
   "cell_type": "code",
   "execution_count": 30,
   "metadata": {},
   "outputs": [],
   "source": [
    "def highlight_face(image, color, text, x, y, w, h):\n",
    "    cv2.rectangle(image, (x, y), (x+w, y+h), color, 5)\n",
    "    cv2.rectangle(image, (x, y-40), (x+w, y), color, -2)\n",
    "    cv2.putText(\n",
    "        image,\n",
    "        text,\n",
    "        (x, y-10),\n",
    "        FONT, 0.75,\n",
    "        (255, 255, 255),\n",
    "        1, cv2.LINE_AA\n",
    "    )"
   ]
  },
  {
   "cell_type": "markdown",
   "metadata": {},
   "source": [
    "### Taking the feed from webcam and checking if the faces in that feed are wearing a mask or not"
   ]
  },
  {
   "cell_type": "code",
   "execution_count": null,
   "metadata": {},
   "outputs": [],
   "source": [
    "webcam = cv2.VideoCapture(0)\n",
    "\n",
    "# run until 'q' or 'Q' is pressed\n",
    "while True:\n",
    "    sucess, frame = webcam.read()  # Read the current frame\n",
    "    frame_gray = cv2.cvtColor(frame, cv2.COLOR_BGR2GRAY)  # Converting the image to grey for better face recognition\n",
    "    faces = face_detector.detectMultiScale(frame_gray, 1.3, 5)  # Detect for faces in the current frame\n",
    "    \n",
    "    for x, y, w, h in faces: # for x_cor, y_cor, width, height of every face\n",
    "        crop_img = frame[y: y+h, x: x+h]  # crop the frame just to the face using list slicing\n",
    "        img = cv2.resize(crop_img, (IMAGE_SIZE, IMAGE_SIZE)) # Resize the Image to the dimensions\n",
    "        img = preprocess_image(img)  \n",
    "        img = img.reshape(1, IMAGE_SIZE, IMAGE_SIZE, 1)  \n",
    "        \n",
    "        # Pridict for the face (if it is wearing mask or not)\n",
    "        prediction = model.predict(img)\n",
    "        class_ = np.argmax(prediction)  # getting the index of the hightes prediction\n",
    "        probability = np.max(prediction)\n",
    "        \n",
    "        if probability >= THRESHOLD:\n",
    "            if class_ == WITH_MASK:  # If the face has mask display 'Mask' with green rectangle\n",
    "                highlight_face(frame, GREEN, 'Mask', x, y, w, h)\n",
    "            elif class_ == WITHOUT_MASK:  # If the face does not have mask display 'No Mask' with red rectangle\n",
    "                highlight_face(frame, RED, 'No Mask', x, y, w, h)\n",
    "                \n",
    "    cv2.imshow(\"Webcam\", frame)\n",
    "    key = cv2.waitKey(1) # wait for 1 milisecond and capture the key if any pressedf\n",
    "    if key == ord('q') or key == ord('Q'):\n",
    "        break\n",
    "        \n",
    "webcam.release()\n",
    "cv2.destroyAllWindows()"
   ]
  },
  {
   "cell_type": "markdown",
   "metadata": {},
   "source": [
    "The output of this cell of code is \n",
    "![demo](./Assets/model-demo.gif)"
   ]
  },
  {
   "cell_type": "markdown",
   "metadata": {},
   "source": [
    "### Let us send an email if the student is not wearing a mask"
   ]
  },
  {
   "cell_type": "code",
   "execution_count": null,
   "metadata": {},
   "outputs": [],
   "source": [
    "import smtplib\n",
    "from email.message import EmailMessage"
   ]
  },
  {
   "cell_type": "code",
   "execution_count": null,
   "metadata": {},
   "outputs": [],
   "source": [
    "def get_binary(img):\n",
    "    cv2.imwrite('./Data/temp.png', img)\n",
    "    \n",
    "    with open('./Data/temp.png', 'rb') as image:\n",
    "        content = image.read()\n",
    "    \n",
    "    os.remove('./Data/temp.png')\n",
    "    return content\n",
    "\n",
    "def send_email(image):\n",
    "    email = EmailMessage()\n",
    "    email['to'] = AUTHORITY_EMAIL\n",
    "    email['Subject'] = 'A Student not wearing a mask'\n",
    "    email['from'] = 'Mask Detector AI'\n",
    "    \n",
    "    email.set_content('I found A Student who is not wearing a Mask')\n",
    "    \n",
    "    email.add_attachment(get_binary(image), maintype='image', subtype='png', filename='student.png')\n",
    "    \n",
    "    if MY_MAIL is None or PASSWORD is None or AUTHORITY_MAIL is None:\n",
    "        print('[Error] No Credentials providen, Please go to the top of this file and fill out the credentials in the constants')\n",
    "    \n",
    "    with smtplib.SMTP(host='smtp.gmail.com', port=587) as smtp:\n",
    "        smtp.ehlo()\n",
    "        smtp.starttls()\n",
    "        \n",
    "        while True:\n",
    "            try:\n",
    "                smtp.login(MY_MAIL, PASSWORD)\n",
    "                smtp.send_message(email)\n",
    "                print(\"Done!!!\")\n",
    "                break\n",
    "            except:\n",
    "                print(\"There was a problem while login try again or check if this program is allowed to use the mail services\")"
   ]
  },
  {
   "cell_type": "markdown",
   "metadata": {},
   "source": [
    "#### Check for students in a frame which are not wearing a mask and then mail to the authority\n",
    "We are checking here in only 1 frame as if we check in feed teh same student will be reported in every frame and will create a lot of useless amils"
   ]
  },
  {
   "cell_type": "code",
   "execution_count": null,
   "metadata": {},
   "outputs": [],
   "source": [
    "webcam = cv2.VideoCapture(0)\n",
    "\n",
    "sucess, frame = webcam.read()  # Read the current frame\n",
    "frame_gray = cv2.cvtColor(frame, cv2.COLOR_BGR2GRAY)  # Converting the image to grey for better face recognition\n",
    "faces = face_detector.detectMultiScale(frame_gray, 1.3, 5)  # Detect for faces in the current frame\n",
    "\n",
    "for x, y, w, h in faces: # for x_cor, y_cor, width, height of every face\n",
    "    crop_img = frame[y: y+h, x: x+h]  # crop the frame just to the face using list slicing\n",
    "    img = cv2.resize(crop_img, (IMAGE_SIZE, IMAGE_SIZE)) # Resize the Image to the dimensions\n",
    "    img = preprocess_image(img)  \n",
    "    img = img.reshape(1, IMAGE_SIZE, IMAGE_SIZE, 1)  \n",
    "\n",
    "    # Pridict for the face (if it is wearing mask or not)\n",
    "    prediction = model.predict(img)\n",
    "    class_ = np.argmax(prediction)  # getting the index of the hightes prediction\n",
    "    probability = np.max(prediction)\n",
    "\n",
    "    if probability >= THRESHOLD:\n",
    "        if class_ == WITHOUT_MASK:  # If the face does not have mask mail to authority\n",
    "            send_email(crop_img)\n",
    "            highlight_face(frame, RED, 'No Mask', x, y, w, h)\n",
    "\n",
    "cv2.imshow(\"Webcam\", frame)\n",
    "cv2.waitKey(0)\n",
    "webcam.release()"
   ]
  },
  {
   "cell_type": "markdown",
   "metadata": {},
   "source": [
    "This is the screenshot of the mail sent by this app\n",
    "![email sent by the above cell of code](./Assets/mail_by_onefile.png)"
   ]
  },
  {
   "cell_type": "markdown",
   "metadata": {},
   "source": [
    "# Done!"
   ]
  }
 ],
 "metadata": {
  "kernelspec": {
   "display_name": "Python 3",
   "language": "python",
   "name": "python3"
  },
  "language_info": {
   "codemirror_mode": {
    "name": "ipython",
    "version": 3
   },
   "file_extension": ".py",
   "mimetype": "text/x-python",
   "name": "python",
   "nbconvert_exporter": "python",
   "pygments_lexer": "ipython3",
   "version": "3.8.5"
  }
 },
 "nbformat": 4,
 "nbformat_minor": 5
}
